{
 "cells": [
  {
   "cell_type": "markdown",
   "metadata": {},
   "source": [
    "# Data Analytics Project - Pair 1\n",
    "# Linear Regression Model"
   ]
  },
  {
   "cell_type": "code",
   "execution_count": 1,
   "metadata": {},
   "outputs": [],
   "source": [
    "# importing required libraries\n",
    "import os\n",
    "import numpy as np\n",
    "import pandas as pd"
   ]
  },
  {
   "cell_type": "markdown",
   "metadata": {},
   "source": [
    "# Get dataset"
   ]
  },
  {
   "cell_type": "code",
   "execution_count": 2,
   "metadata": {},
   "outputs": [],
   "source": [
    "bajaj_df = pd.read_csv(\"../../Storage/Companies_with_names_exchange/BAJAJ-AUTONSE.csv\", index_col=[0])"
   ]
  },
  {
   "cell_type": "code",
   "execution_count": 3,
   "metadata": {},
   "outputs": [
    {
     "data": {
      "text/html": [
       "<div>\n",
       "<style scoped>\n",
       "    .dataframe tbody tr th:only-of-type {\n",
       "        vertical-align: middle;\n",
       "    }\n",
       "\n",
       "    .dataframe tbody tr th {\n",
       "        vertical-align: top;\n",
       "    }\n",
       "\n",
       "    .dataframe thead th {\n",
       "        text-align: right;\n",
       "    }\n",
       "</style>\n",
       "<table border=\"1\" class=\"dataframe\">\n",
       "  <thead>\n",
       "    <tr style=\"text-align: right;\">\n",
       "      <th></th>\n",
       "      <th>High</th>\n",
       "      <th>Low</th>\n",
       "      <th>Open</th>\n",
       "      <th>Close</th>\n",
       "      <th>Volume</th>\n",
       "      <th>Adj Close</th>\n",
       "      <th>Company</th>\n",
       "      <th>Exchange</th>\n",
       "    </tr>\n",
       "    <tr>\n",
       "      <th>Date</th>\n",
       "      <th></th>\n",
       "      <th></th>\n",
       "      <th></th>\n",
       "      <th></th>\n",
       "      <th></th>\n",
       "      <th></th>\n",
       "      <th></th>\n",
       "      <th></th>\n",
       "    </tr>\n",
       "  </thead>\n",
       "  <tbody>\n",
       "    <tr>\n",
       "      <th>2017-01-02</th>\n",
       "      <td>2654.300049</td>\n",
       "      <td>2552.000000</td>\n",
       "      <td>2642.699951</td>\n",
       "      <td>2598.500000</td>\n",
       "      <td>323342.0</td>\n",
       "      <td>2336.084473</td>\n",
       "      <td>BAJAJ-AUTO</td>\n",
       "      <td>NSE</td>\n",
       "    </tr>\n",
       "    <tr>\n",
       "      <th>2017-01-03</th>\n",
       "      <td>2632.199951</td>\n",
       "      <td>2561.449951</td>\n",
       "      <td>2594.000000</td>\n",
       "      <td>2619.199951</td>\n",
       "      <td>420196.0</td>\n",
       "      <td>2354.694336</td>\n",
       "      <td>BAJAJ-AUTO</td>\n",
       "      <td>NSE</td>\n",
       "    </tr>\n",
       "    <tr>\n",
       "      <th>2017-01-04</th>\n",
       "      <td>2698.550049</td>\n",
       "      <td>2615.949951</td>\n",
       "      <td>2625.199951</td>\n",
       "      <td>2684.100098</td>\n",
       "      <td>343922.0</td>\n",
       "      <td>2413.040283</td>\n",
       "      <td>BAJAJ-AUTO</td>\n",
       "      <td>NSE</td>\n",
       "    </tr>\n",
       "    <tr>\n",
       "      <th>2017-01-05</th>\n",
       "      <td>2730.000000</td>\n",
       "      <td>2685.000000</td>\n",
       "      <td>2694.000000</td>\n",
       "      <td>2723.350098</td>\n",
       "      <td>188686.0</td>\n",
       "      <td>2448.326416</td>\n",
       "      <td>BAJAJ-AUTO</td>\n",
       "      <td>NSE</td>\n",
       "    </tr>\n",
       "    <tr>\n",
       "      <th>2017-01-06</th>\n",
       "      <td>2739.899902</td>\n",
       "      <td>2696.699951</td>\n",
       "      <td>2721.000000</td>\n",
       "      <td>2707.350098</td>\n",
       "      <td>159484.0</td>\n",
       "      <td>2433.942383</td>\n",
       "      <td>BAJAJ-AUTO</td>\n",
       "      <td>NSE</td>\n",
       "    </tr>\n",
       "  </tbody>\n",
       "</table>\n",
       "</div>"
      ],
      "text/plain": [
       "                   High          Low         Open        Close    Volume  \\\n",
       "Date                                                                       \n",
       "2017-01-02  2654.300049  2552.000000  2642.699951  2598.500000  323342.0   \n",
       "2017-01-03  2632.199951  2561.449951  2594.000000  2619.199951  420196.0   \n",
       "2017-01-04  2698.550049  2615.949951  2625.199951  2684.100098  343922.0   \n",
       "2017-01-05  2730.000000  2685.000000  2694.000000  2723.350098  188686.0   \n",
       "2017-01-06  2739.899902  2696.699951  2721.000000  2707.350098  159484.0   \n",
       "\n",
       "              Adj Close     Company Exchange  \n",
       "Date                                          \n",
       "2017-01-02  2336.084473  BAJAJ-AUTO      NSE  \n",
       "2017-01-03  2354.694336  BAJAJ-AUTO      NSE  \n",
       "2017-01-04  2413.040283  BAJAJ-AUTO      NSE  \n",
       "2017-01-05  2448.326416  BAJAJ-AUTO      NSE  \n",
       "2017-01-06  2433.942383  BAJAJ-AUTO      NSE  "
      ]
     },
     "execution_count": 3,
     "metadata": {},
     "output_type": "execute_result"
    }
   ],
   "source": [
    "bajaj_df.head()"
   ]
  },
  {
   "cell_type": "markdown",
   "metadata": {},
   "source": [
    "# Decide prediction timeline\n"
   ]
  },
  {
   "cell_type": "code",
   "execution_count": null,
   "metadata": {},
   "outputs": [],
   "source": []
  },
  {
   "cell_type": "markdown",
   "metadata": {},
   "source": [
    "# Decide training data to get most accurate prediction data in timeline\n",
    "\n",
    "# Train model\n",
    "\n",
    "# Get predictions\n",
    "\n",
    "# Repeat and keep changing parameters until you get most accurate predicitons\n"
   ]
  },
  {
   "cell_type": "code",
   "execution_count": null,
   "metadata": {},
   "outputs": [],
   "source": []
  }
 ],
 "metadata": {
  "kernelspec": {
   "display_name": "Python 3",
   "language": "python",
   "name": "python3"
  },
  "language_info": {
   "codemirror_mode": {
    "name": "ipython",
    "version": 3
   },
   "file_extension": ".py",
   "mimetype": "text/x-python",
   "name": "python",
   "nbconvert_exporter": "python",
   "pygments_lexer": "ipython3",
   "version": "3.6.9"
  }
 },
 "nbformat": 4,
 "nbformat_minor": 4
}
