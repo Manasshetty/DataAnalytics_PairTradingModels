{
 "cells": [
  {
   "cell_type": "markdown",
   "metadata": {},
   "source": [
    "# Data Analytics Project - Preprocessing"
   ]
  },
  {
   "cell_type": "markdown",
   "metadata": {},
   "source": [
    "# Cleaning Data"
   ]
  },
  {
   "cell_type": "code",
   "execution_count": 1,
   "metadata": {},
   "outputs": [],
   "source": [
    "# importing required libraries\n",
    "import os"
   ]
  },
  {
   "cell_type": "markdown",
   "metadata": {},
   "source": [
    "### Extracting CSV files from folders"
   ]
  },
  {
   "cell_type": "code",
   "execution_count": 2,
   "metadata": {},
   "outputs": [
    {
     "name": "stdout",
     "output_type": "stream",
     "text": [
      "\n",
      "Number of companies folders: 3792\n",
      "After processing ...\n",
      "Number of companies csv files: 4993\n",
      "\n"
     ]
    }
   ],
   "source": [
    "companies_folders = os.listdir(\"../Storage/Companies\")\n",
    "\n",
    "print()\n",
    "print(\"Number of companies folders:\", len(companies_folders))\n",
    "\n",
    "# Checking if this step was completed earlier\n",
    "if not os.path.exists(\"../Storage/Companies_csvs/\"):\n",
    "\n",
    "    # Making a folder of all csvs\n",
    "    os.mkdir(\"../Storage/Companies_csvs/\")\n",
    "\n",
    "    # Extracting csvs present in each companies folder into companies_csv folder for ease of use\n",
    "    for company_folder in companies_folders:\n",
    "        # print(company_folder)\n",
    "        if os.path.isdir(f\"../Storage/Companies/{company_folder}\"):\n",
    "            for csv_file in os.listdir(f\"../Storage/Companies/{company_folder}\"):\n",
    "                os.rename(f\"../Storage/Companies/{company_folder}/{csv_file}\", f\"../Storage/Companies_csvs/{csv_file}\")\n",
    "                # print(\"        \" + csv_file)\n",
    "            os.rmdir(f\"../Storage/Companies/{company_folder}\")\n",
    "\n",
    "companies_csv_files = os.listdir(\"../Storage/Companies_csvs\")\n",
    "\n",
    "print(\"After processing ...\")\n",
    "print(\"Number of companies csv files:\", len(companies_csv_files))\n",
    "print()\n"
   ]
  },
  {
   "cell_type": "markdown",
   "metadata": {},
   "source": [
    "### Handling missing data\n",
    "\n",
    "We are dropping rows of the datasets which have missing data.\n",
    "\n",
    "Interpolation would not work in this scenario as filling in the data for missing days may lead to discrepancies and might affect the mean reverting nature of larger stocks and increase volatility.\n"
   ]
  },
  {
   "cell_type": "code",
   "execution_count": 3,
   "metadata": {},
   "outputs": [
    {
     "name": "stdout",
     "output_type": "stream",
     "text": [
      "Number of companies csv files: 4993\n",
      "After processing ...\n",
      "Number of companies csv files cleaned: 4993\n"
     ]
    }
   ],
   "source": [
    "# In each dataset, we are dropping rows with NaN values\n",
    "\n",
    "companies_csvs = os.listdir(\"../Storage/Companies_csvs\")\n",
    "\n",
    "print(\"Number of companies csv files:\", len(companies_csvs))\n",
    "\n",
    "if not os.path.exists(\"../Storage/Companies_drop_rows/\"):\n",
    "\n",
    "    # Making a folder with cleaned csvs\n",
    "    os.mkdir(\"../Storage/Companies_drop_rows/\")\n",
    "\n",
    "    # Dropping rows of all csvs with NaN values\n",
    "    for company_csv in companies_csvs:\n",
    "        df = pd.read_csv(f\"../Storage/Companies_csvs/{company_csv}\", index_col=[0])\n",
    "        df = df.dropna()\n",
    "        df.to_csv(f\"../Storage/Companies_drop_rows/{company_csv}\")\n",
    "\n",
    "    # For debuging purposes only\n",
    "    # os.rmdir(\"../Storage/Companies_drop_rows/\")\n",
    "\n",
    "companies_drop_rows = os.listdir(\"../Storage/Companies_drop_rows\")\n",
    "\n",
    "print(\"After processing ...\")\n",
    "\n",
    "print(\"Number of companies csv files cleaned:\", len(companies_drop_rows))\n"
   ]
  },
  {
   "cell_type": "markdown",
   "metadata": {},
   "source": [
    "### Cropping all datasets to be in the range of 2017-2019 (Included)"
   ]
  },
  {
   "cell_type": "code",
   "execution_count": 4,
   "metadata": {},
   "outputs": [
    {
     "name": "stdout",
     "output_type": "stream",
     "text": [
      "\n",
      "Number of companies csv files with dropped rows: 4993\n",
      "After processing ...\n",
      "Number of companies csv files cleaned: 3558\n",
      "\n"
     ]
    }
   ],
   "source": [
    "# In each dataset, we are checking if there is adequate data and \n",
    "# removing data that doesn't fit in the range of years 2017-2019\n",
    "\n",
    "companies_drop_rows = os.listdir(\"../Storage/Companies_drop_rows/\")\n",
    "\n",
    "print()\n",
    "\n",
    "print(\"Number of companies csv files with dropped rows:\", len(companies_drop_rows))\n",
    "\n",
    "if not os.path.exists(\"../Storage/Companies_in_range/\"):\n",
    "\n",
    "    # Making a folder with csvs in above specified range\n",
    "    os.mkdir(\"../Storage/Companies_in_range/\")\n",
    "\n",
    "    # Dropping rows of all csvs with NaN values\n",
    "    for cleaned_company_csv in companies_drop_rows:\n",
    "        df = pd.read_csv(f\"../Storage/Companies_drop_rows/{cleaned_company_csv}\", index_col=[0])\n",
    "        # print()\n",
    "        # print(cleaned_company_csv)\n",
    "        if df.shape[0] > 1000:\n",
    "            # print(df.head())\n",
    "            dates_in_range = list(map(lambda date: date[:4] in [\"2017\", \"2018\", \"2019\"], df.index))\n",
    "            df = df[dates_in_range]\n",
    "            # print(df.head())\n",
    "            df.to_csv(f\"../Storage/Companies_in_range/{cleaned_company_csv}\")\n",
    "\n",
    "    # For debuging purposes only\n",
    "    # os.rmdir(\"../Storage/Companies_in_range/\")\n",
    "\n",
    "companies_in_range = os.listdir(\"../Storage/Companies_in_range/\")\n",
    "\n",
    "print(\"After processing ...\")\n",
    "\n",
    "print(\"Number of companies csv files cleaned:\", len(companies_in_range))\n",
    "\n",
    "print()\n",
    "\n"
   ]
  },
  {
   "cell_type": "markdown",
   "metadata": {},
   "source": [
    "### Adding Company name and Exchange columns"
   ]
  },
  {
   "cell_type": "code",
   "execution_count": 5,
   "metadata": {},
   "outputs": [
    {
     "name": "stdout",
     "output_type": "stream",
     "text": [
      "\n",
      "Number of companies csv files with dropped rows: 3558\n",
      "After processing ...\n",
      "Number of companies csvs with names and exchanges added: 3558\n",
      "\n"
     ]
    }
   ],
   "source": [
    "# In each dataset, we are adding the company name and exchange columns\n",
    "# to make it easier to identify rows in the dataframes later\n",
    "\n",
    "companies_in_range = os.listdir(\"../Storage/Companies_in_range/\")\n",
    "\n",
    "print()\n",
    "\n",
    "print(\"Number of companies csv files with dropped rows:\", len(companies_in_range))\n",
    "\n",
    "if not os.path.exists(\"../Storage/Companies_with_names_exchange/\"):\n",
    "\n",
    "    # Making a folder with csvs in above specified range\n",
    "    os.mkdir(\"../Storage/Companies_with_names_exchange/\")\n",
    "\n",
    "    # Dropping rows of all csvs with NaN values\n",
    "    for company_in_range_csv in companies_in_range:\n",
    "        df = pd.read_csv(f\"../Storage/Companies_in_range/{company_in_range_csv}\", index_col=[0])\n",
    "        # print()\n",
    "        # print(cleaned_company_csv)\n",
    "#         print()\n",
    "#         print(\"csv: \", company_in_range_csv)\n",
    "#         print(\"Company name: \", company_in_range_csv[:-7])\n",
    "#         print(\"Company exchange: \", company_in_range_csv[-7:-4])\n",
    "        df[\"Company\"] = company_in_range_csv[:-7]\n",
    "        df[\"Exchange\"] = company_in_range_csv[-7:-4]\n",
    "        # print(df.head())\n",
    "        df.to_csv(f\"../Storage/Companies_with_names_exchange/{company_in_range_csv}\")\n",
    "\n",
    "    # For debuging purposes only\n",
    "    # os.rmdir(\"../Storage/Companies_with_names_exchange/\")\n",
    "\n",
    "companies_with_names_exchange = os.listdir(\"../Storage/Companies_with_names_exchange/\")\n",
    "\n",
    "print(\"After processing ...\")\n",
    "\n",
    "print(\"Number of companies csvs with names and exchanges added:\", len(companies_with_names_exchange))\n",
    "\n",
    "print()\n"
   ]
  },
  {
   "cell_type": "code",
   "execution_count": null,
   "metadata": {},
   "outputs": [],
   "source": []
  }
 ],
 "metadata": {
  "kernelspec": {
   "display_name": "Python 3",
   "language": "python",
   "name": "python3"
  },
  "language_info": {
   "codemirror_mode": {
    "name": "ipython",
    "version": 3
   },
   "file_extension": ".py",
   "mimetype": "text/x-python",
   "name": "python",
   "nbconvert_exporter": "python",
   "pygments_lexer": "ipython3",
   "version": "3.6.9"
  }
 },
 "nbformat": 4,
 "nbformat_minor": 4
}
